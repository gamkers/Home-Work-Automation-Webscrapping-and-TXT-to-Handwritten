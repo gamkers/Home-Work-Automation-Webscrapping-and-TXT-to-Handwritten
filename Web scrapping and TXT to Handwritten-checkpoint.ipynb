{
 "cells": [
  {
   "cell_type": "code",
   "execution_count": 1,
   "id": "260acbfb",
   "metadata": {},
   "outputs": [],
   "source": [
    "import speech_recognition as sr\n",
    "import pyttsx3\n",
    "from pyttsx3 import Engine\n",
    "from bs4 import BeautifulSoup\n",
    "import requests\n",
    "listener = sr.Recognizer()\n",
    "engine: Engine = pyttsx3.init('sapi5')\n",
    "voices = engine.getProperty('voices')\n",
    "engine.setProperty('voice', voices[0].id)\n",
    "engine.setProperty('rate', 171)\n",
    "engine.setProperty('volume', 150)\n",
    "def take_command():\n",
    "    try:\n",
    "        with sr.Microphone() as source:\n",
    "            print('listening...')\n",
    "            voice = listener.listen(source)\n",
    "            commands = \"\"\n",
    "            commands = listener.recognize_google(voice)\n",
    "            listener.pause_threshold = 1\n",
    "            commands = commands.lower()\n",
    "\n",
    "            if 'genesis' in commands:\n",
    "                commands = commands.replace('genesis', '')\n",
    "                print(commands)\n",
    "    except:\n",
    "        return \"\"\n",
    "    return commands"
   ]
  },
  {
   "cell_type": "code",
   "execution_count": 2,
   "id": "4864fa2e",
   "metadata": {},
   "outputs": [],
   "source": [
    "def talk(text):\n",
    "    engine.say(text)\n",
    "    engine.runAndWait()"
   ]
  },
  {
   "cell_type": "code",
   "execution_count": null,
   "id": "2cb61a70",
   "metadata": {},
   "outputs": [],
   "source": [
    "def text_to_handrwitten():\n",
    "    talk(\"say YOUR TITLE SIR\")\n",
    "    title = take_command()\n",
    "    print(title)\n",
    "    search = title\n",
    "    url = f\"https://www.google.com/search?q={search}\"\n",
    "    r = requests.get(url)\n",
    "    talk(\"analysing the matching result with the title from the database\")\n",
    "    data = BeautifulSoup(r.text, \"html.parser\")\n",
    "    temp = data.find(\"div\", class_=\"BNeawe\").text\n",
    "    passage = temp\n",
    "    talk(\"wait a second sir\")\n",
    "    pywhatkit.text_to_handwriting(title + \"\\n\" + passage, 'C:\\\\output location', [10, 10, 10])\n",
    "    talk(\"match found\")\n",
    "    notification(\"information\", temp)\n",
    "    talk(\"writing\" + passage)\n",
    "    img = Image.open('C:\\\\output location')\\\\ Output location\n",
    "    img.show()"
   ]
  }
 ],
 "metadata": {
  "kernelspec": {
   "display_name": "Python 3",
   "language": "python",
   "name": "python3"
  },
  "language_info": {
   "codemirror_mode": {
    "name": "ipython",
    "version": 3
   },
   "file_extension": ".py",
   "mimetype": "text/x-python",
   "name": "python",
   "nbconvert_exporter": "python",
   "pygments_lexer": "ipython3",
   "version": "3.8.8"
  }
 },
 "nbformat": 4,
 "nbformat_minor": 5
}
